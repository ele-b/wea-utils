{
 "cells": [
  {
   "cell_type": "code",
   "execution_count": 6,
   "metadata": {},
   "outputs": [],
   "source": [
    "import numpy as np\n",
    "import pandas as pd\n",
    "import matplotlib.pyplot as plt\n",
    "import os\n",
    "import sys\n",
    "sys.path.insert(0, '/Users/ebrembilla/Scripts/lib/weadata')\n",
    "import wea_utils\n",
    "\n",
    "%matplotlib inline"
   ]
  },
  {
   "cell_type": "code",
   "execution_count": 4,
   "metadata": {},
   "outputs": [
    {
     "name": "stdout",
     "output_type": "stream",
     "text": [
      "/Users/ebrembilla/Library/CloudStorage/OneDrive-DelftUniversityofTechnology/2023/Teaching/MEGA\n"
     ]
    },
    {
     "data": {
      "text/plain": [
       "'/Users/ebrembilla/Library/CloudStorage/OneDrive-DelftUniversityofTechnology/2023/Teaching/MEGA'"
      ]
     },
     "execution_count": 4,
     "metadata": {},
     "output_type": "execute_result"
    }
   ],
   "source": [
    "%cd /Users/ebrembilla/Library/CloudStorage/OneDrive-DelftUniversityofTechnology/2023/Teaching/MEGA\n",
    "cwd = os.getcwd()\n",
    "cwd"
   ]
  },
  {
   "cell_type": "markdown",
   "metadata": {},
   "source": [
    "# Upload weather files"
   ]
  },
  {
   "cell_type": "code",
   "execution_count": 9,
   "metadata": {},
   "outputs": [
    {
     "name": "stdout",
     "output_type": "stream",
     "text": [
      "LOCATION,AMSTERDAM,-,NLD,IWEC Data,062400,52.30,4.77,1.0,-2.0\n",
      "\n",
      "LOCATION,Rotterdam.The.Hague.AP,ZH,NLD,SRC-TMYx,063440,51.96060,4.44690,1.0,-4.5\n",
      "\n",
      "LOCATION, Rotterdam, -, Country, TU Delft generated, -, 51.957, 4.437, 1.0, -4.6\n",
      "\n"
     ]
    }
   ],
   "source": [
    "iwec_AMS_fn = 'Rotterdam/NLD_Amsterdam/NLD_Amsterdam.062400_IWEC.epw'\n",
    "oneb_RTD_fn = 'Rotterdam/Onebuilding/NLD_ZH_Rotterdam.The.Hague.AP.063440_TMYx/NLD_ZH_Rotterdam.The.Hague.AP.063440_TMYx.epw' # 1957-2021\n",
    "hist_RTD_fn = 'Rotterdam/EPW/Rotterdam-ISD063440-2022.epw'\n",
    "\n",
    "iwec_AMS = wea_utils.read_epw(iwec_AMS_fn) \n",
    "oneb_RTD = wea_utils.read_epw(oneb_RTD_fn) \n",
    "hist_RTD = wea_utils.read_epw(hist_RTD_fn) "
   ]
  },
  {
   "cell_type": "code",
   "execution_count": null,
   "metadata": {},
   "outputs": [],
   "source": []
  }
 ],
 "metadata": {
  "kernelspec": {
   "display_name": "Python 3 (ipykernel)",
   "language": "python",
   "name": "python3"
  },
  "language_info": {
   "codemirror_mode": {
    "name": "ipython",
    "version": 3
   },
   "file_extension": ".py",
   "mimetype": "text/x-python",
   "name": "python",
   "nbconvert_exporter": "python",
   "pygments_lexer": "ipython3",
   "version": "3.9.7"
  }
 },
 "nbformat": 4,
 "nbformat_minor": 1
}
